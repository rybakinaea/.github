{
  "cells": [
    {
      "cell_type": "markdown",
      "metadata": {
        "id": "view-in-github",
        "colab_type": "text"
      },
      "source": [
        "<a href=\"https://colab.research.google.com/github/rybakinaea/.github/blob/main/1111%D0%9A%D0%BE%D0%BF%D0%B8%D1%8F_%D0%B1%D0%BB%D0%BE%D0%BA%D0%BD%D0%BE%D1%82%D0%B0_%22%D0%9F%D0%A0_01_ipynb%22.ipynb\" target=\"_parent\"><img src=\"https://colab.research.google.com/assets/colab-badge.svg\" alt=\"Open In Colab\"/></a>"
      ]
    },
    {
      "cell_type": "markdown",
      "source": [
        "# **Начало работы с API**\n",
        "\n",
        "## **Обзор**"
      ],
      "metadata": {
        "id": "KyzIjqARIsxM"
      }
    },
    {
      "cell_type": "markdown",
      "source": [
        "### **Чему вы научитесь**\n",
        "В этом разделе вы узнаете:\n",
        "1. Как использовать библиотеку Requests с публичными API\n",
        "2. Как анализировать данные JSON, возвращаемые API"
      ],
      "metadata": {
        "id": "-nnkFS0dJZgY"
      }
    },
    {
      "cell_type": "markdown",
      "source": [
        "### **Предварительные условия**\n",
        "Прежде чем приступить к работе с этим разделом, вы должны иметь представление о:\n",
        "1. [JSON](https://colab.research.google.com/github/HackBinghamton/Webscraping-APIsWorkshop/blob/master/APIs/JSON.ipynb)\n",
        "2. [Запросы](https://colab.research.google.com/github/HackBinghamton/Webscraping-APIsWorkshop/blob/master/APIs/Requests.ipynb)"
      ],
      "metadata": {
        "id": "0wiMtTZbJkiq"
      }
    },
    {
      "cell_type": "markdown",
      "source": [
        "### **Введение**\n",
        "API означает **Интерфейс прикладного программирования**. API позволяют пользователям и разработчикам взаимодействовать со службами компании посредством кода, упрощая взаимодействие различных платформ и приложений друг с другом.\n",
        "\n",
        "В этой части семинара мы рассмотрим подробный пример простого API извлечения данных, а затем рассмотрим основы более продвинутых API."
      ],
      "metadata": {
        "id": "EEBWbZebKYYo"
      }
    },
    {
      "cell_type": "markdown",
      "source": [
        "### **Выбор API**\n",
        "Прежде чем мы сможем начать использовать API, нам необходимо изучить и найти тот API, который нам нужен. Отличное место для начала — [этот](https://github.com/public-apis/public-apis) репозиторий Github, который содержит ссылки на сотни общедоступных API, отсортированных по категориям.\n",
        "\n",
        "На этой странице вы заметите, что к каждому API прикреплено три разных поля: **Auth**, **HTTPS** и **CORS**. Поле Auth сообщит вам, нужно ли вам создавать авторизованную учетную запись перед использованием API. Если вы видите *Нет* в поле Auth одного из этих API, то, как правило, его может использовать кто угодно и для чего угодно. Однако если для API требуется APIKey или OAuth, он обычно будет бесплатным только в том случае, если вы используете его для проекта, от которого вы не получите прибыли. Поля HTTPS и CORS обычно можно игнорировать."
      ],
      "metadata": {
        "id": "OsD008rMKbxK"
      }
    },
    {
      "cell_type": "markdown",
      "source": [
        "# **API SpaceX**\n",
        "\n",
        "\n",
        "---\n",
        "\n",
        "\n",
        "Поскольку космос нравится всем (и Илону Маску), для начала мы собираемся использовать API SpaceX. В репозитории общедоступных API вы заметите, что API SpaceX не требует авторизации, поэтому этот API можно использовать бесплатно. Если вы хотите узнать больше об API SpaceX, вы можете найти его репозиторий на Github [здесь](https://github.com/r-spacex/SpaceX-API). Давайте погрузимся!"
      ],
      "metadata": {
        "id": "5OycRAkaK7j_"
      }
    },
    {
      "cell_type": "markdown",
      "source": [
        "#### **Настройка**\n",
        "Для начала нам нужно импортировать библиотеку запросов и указать URL-адрес нашего API. URL-адрес, который мы используем, будет меняться в зависимости от того, какую информацию мы хотим получить от API. Сейчас мы будем использовать https://api.spacexdata.com/v3/launches.\n",
        "чтобы получить информацию обо всех различных запусках ракет SpaceX. Ознакомьтесь с документацией, указанной выше, если вы хотите узнать о некоторых других вещах, которые вы можете делать с помощью API SpaceX, включая отслеживание местоположения Rocketman Tesla Roadster на орбите!"
      ],
      "metadata": {
        "id": "_fXWGe2cLxvI"
      }
    },
    {
      "cell_type": "code",
      "source": [
        "import requests\n",
        "url = \"https://api.spacexdata.com/v3/launches\""
      ],
      "metadata": {
        "id": "58QlaCNwL4vn"
      },
      "execution_count": 1,
      "outputs": []
    },
    {
      "cell_type": "markdown",
      "source": [
        "Теперь, когда у нас есть URL-адрес API, мы можем использовать запросы для получения информации из этого API."
      ],
      "metadata": {
        "id": "DDYVWQ9ZL5QL"
      }
    },
    {
      "cell_type": "markdown",
      "source": [
        "#### **Оформление запроса**"
      ],
      "metadata": {
        "id": "ICwJIZKlME7J"
      }
    },
    {
      "cell_type": "code",
      "source": [
        "rockets = requests.get(url)\n",
        "print(rockets)"
      ],
      "metadata": {
        "id": "sErfUQaTMHgp"
      },
      "execution_count": null,
      "outputs": []
    },
    {
      "cell_type": "markdown",
      "source": [
        "Итак, `requests.get()` предоставил нам **HTTP-ответ**, содержащий нужную нам информацию, но сейчас он не в удобном для использования формате. Вы можете видеть, что если мы попытаемся распечатать здесь «ракеты», все, что мы получим, это «<Response [200]>». Самое замечательное в библиотеке запросов то, что она имеет встроенную функцию `.json()` для преобразования этого HTTP-ответа в формат JSON."
      ],
      "metadata": {
        "id": "dOoPEyNJMFuc"
      }
    },
    {
      "cell_type": "code",
      "source": [
        "jsonrockets = rockets.json()\n",
        "print(jsonrockets)"
      ],
      "metadata": {
        "id": "nF73nhB3MO_X"
      },
      "execution_count": null,
      "outputs": []
    },
    {
      "cell_type": "markdown",
      "source": [
        "Теперь мы взяли наш HTTP-ответ и превратили его в *чрезвычайно* большой **объект JSON**, который можно начать использовать.\n",
        "\n",
        "Если вам интересно, как эти 4 строки кода могут дать вам столько информации, попробуйте посетить URL-адрес, который мы использовали в вашем браузере: https://api.spacexdata.com/v3/launches. Вы должны заметить, что распечатанный нами объект JSON содержит точно такую же информацию, отображаемую на этой веб-странице.\n",
        "\n",
        "Поскольку этот API довольно прост, все, что он делает, это возвращает объект JSON, полный информации, через стандартный HTTP-ответ. Единственная разница между вызовом `requests.get()` по URL-адресу и посещением его в браузере заключается в том, что ваш браузер будет отображать содержимое HTTP-ответа, а `requests.get()` вернет ответ в виде значения."
      ],
      "metadata": {
        "id": "BC4_RcQnMPo8"
      }
    },
    {
      "cell_type": "markdown",
      "source": [
        "#### **Фильтрация данных**\n",
        "\n",
        "Теперь мы можем начать получать нужные данные из этого объекта JSON. Давайте попробуем получить **список всех ракет, которые SpaceX успешно запустила**. Поскольку мы видим, что этот объект JSON начинается как список (первый символ — '['), мы можем сначала начать с цикла по этому списку."
      ],
      "metadata": {
        "id": "bnDw2HOlMcso"
      }
    },
    {
      "cell_type": "code",
      "source": [
        "for launch in jsonrockets:\n",
        "  print(launch)"
      ],
      "metadata": {
        "id": "Vb3OQYzqMeB7"
      },
      "execution_count": null,
      "outputs": []
    },
    {
      "cell_type": "markdown",
      "source": [
        "Как видите, теперь гораздо проще определить, как отформатирован этот объект JSON. **Каждый элемент внешнего списка представляет собой словарь** информации об одной попытке запуска. Эта информация включает название миссии, год запуска и многое другое. Чтобы увидеть все поля, содержащиеся в этих словарях, может потребоваться много чтения, но сейчас давайте проверим поле под названием «launch_success»."
      ],
      "metadata": {
        "id": "aAJniTFIMf4x"
      }
    },
    {
      "cell_type": "code",
      "source": [
        "import requests\n",
        "url = \"https://api.spacexdata.com/v3/launches\"\n",
        "rockets = requests.get(url)\n",
        "jsonrockets = rockets.json()\n",
        "\n",
        "for launch in jsonrockets:\n",
        "  print(launch[\"launch_success\"])"
      ],
      "metadata": {
        "id": "l9UIjl9kMoB3"
      },
      "execution_count": null,
      "outputs": []
    },
    {
      "cell_type": "markdown",
      "source": [
        "Теперь давайте сделаем что-нибудь полезное с этой информацией: **каждый раз, когда мы сталкиваемся с успешным запуском, мы распечатываем ссылку на статью в Википедии об этом запуске**. Страница Википедии каждого запуска находится в поле «Ссылки», которое также является словарем.\n",
        "\n",
        "Подобная вложенная логика JSON может сбивать с толку, особенно если в каждом объекте много полей, как в этом примере. **Полезно рассматривать слои объекта JSON как папки на компьютере**, поскольку каждый слой может содержать как информацию, так и дополнительные слои. В этом примере мы сначала открываем самую внешнюю папку **launch**. Внутри этой папки есть много других папок и фрагментов информации, но мы хотим открыть папку **links**. Опять же, в папке ссылок много папок и элементов, но мы хотим открыть папку **википедия**. Внутри этой папки находится вся необходимая нам информация, поэтому мы можем перестать углубляться в более глубокие папки."
      ],
      "metadata": {
        "id": "PJoWERuyMr29"
      }
    },
    {
      "cell_type": "code",
      "source": [
        "for launch in jsonrockets:\n",
        "  if(launch[\"launch_success\"] == True):\n",
        "    print(launch[\"links\"][\"wikipedia\"])"
      ],
      "metadata": {
        "id": "wRDAQyDBMxfJ"
      },
      "execution_count": null,
      "outputs": []
    },
    {
      "cell_type": "markdown",
      "source": [
        "**Теперь мы успешно получили ссылку на Википедию о каждом успешном запуске ракеты SpaceX, всего за 7 строк кода!** Подобные API невероятно мощны из-за количества информации, которую вы можете собрать, используя лишь небольшую часть работа.\n",
        "\n"
      ],
      "metadata": {
        "id": "DaezXBT-Mom3"
      }
    },
    {
      "cell_type": "markdown",
      "metadata": {
        "id": "w2gkVMcPwfF7"
      },
      "source": [
        "# Самостоятельная работа"
      ]
    },
    {
      "cell_type": "markdown",
      "metadata": {
        "id": "fM8jEazbwfF9"
      },
      "source": [
        "1. Посмотреть документацию к API GitHub, разобраться как вывести список репозиториев для конкретного пользователя, сохранить JSON-вывод в файле *.json."
      ]
    },
    {
      "cell_type": "code",
      "execution_count": null,
      "metadata": {
        "id": "iQxfax6NwfF9"
      },
      "outputs": [],
      "source": [
        "import requests\n",
        "import json"
      ]
    },
    {
      "cell_type": "code",
      "execution_count": null,
      "metadata": {
        "id": "JCsKW587wfF-"
      },
      "outputs": [],
      "source": [
        "url = 'https://api.github.com'\n",
        "user='bosenkotm'"
      ]
    },
    {
      "cell_type": "code",
      "execution_count": null,
      "metadata": {
        "id": "sy7V6DKtwfF-"
      },
      "outputs": [],
      "source": [
        "r = requests.get(f'{url}/users/{user}/repos')"
      ]
    },
    {
      "cell_type": "code",
      "execution_count": null,
      "metadata": {
        "id": "5s9JxBZvwfF-"
      },
      "outputs": [],
      "source": [
        "with open('data.json', 'w') as f:\n",
        "    json.dump(r.json(), f)"
      ]
    },
    {
      "cell_type": "markdown",
      "metadata": {
        "id": "avngrS-FwfF_"
      },
      "source": [
        "2. Изучить список открытых API. Найти среди них любое, требующее авторизацию (любого типа). Выполнить запросы к нему, пройдя авторизацию через curl, Postman, Python.Ответ сервера записать в файл (приложить скриншот для Postman и curl) https://github.com/public-apis/public-apis#readme"
      ]
    }
  ],
  "metadata": {
    "kernelspec": {
      "display_name": "Python 3",
      "language": "python",
      "name": "python3"
    },
    "language_info": {
      "codemirror_mode": {
        "name": "ipython",
        "version": 3
      },
      "file_extension": ".py",
      "mimetype": "text/x-python",
      "name": "python",
      "nbconvert_exporter": "python",
      "pygments_lexer": "ipython3",
      "version": "3.7.4"
    },
    "colab": {
      "provenance": [],
      "include_colab_link": true
    }
  },
  "nbformat": 4,
  "nbformat_minor": 0
}